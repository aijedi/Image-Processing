{
 "cells": [
  {
   "cell_type": "code",
   "execution_count": null,
   "metadata": {},
   "outputs": [],
   "source": [
    "import cv2\n",
    "def resize_image(image_path, baseheight=1600):\n",
    "\n",
    "    img = Image.open(image_path)\n",
    "    hpercent = (baseheight / float(img.size[1]))\n",
    "    wsize = int((float(img.size[0]) * float(hpercent)))\n",
    "    img = img.resize((wsize, baseheight), PIL.Image.ANTIALIAS)\n",
    "    img.save(image_path)\n",
    "    \n",
    "    return image_path"
   ]
  }
 ],
 "metadata": {
  "kernelspec": {
   "display_name": "Python 3",
   "language": "python",
   "name": "python3"
  },
  "language_info": {
   "codemirror_mode": {
    "name": "ipython",
    "version": 3
   },
   "file_extension": ".py",
   "mimetype": "text/x-python",
   "name": "python",
   "nbconvert_exporter": "python",
   "pygments_lexer": "ipython3",
   "version": "3.6.6"
  }
 },
 "nbformat": 4,
 "nbformat_minor": 2
}
